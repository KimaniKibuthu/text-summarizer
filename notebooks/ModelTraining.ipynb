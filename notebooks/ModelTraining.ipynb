{
 "cells": [
  {
   "cell_type": "code",
   "execution_count": 17,
   "metadata": {},
   "outputs": [
    {
     "name": "stdout",
     "output_type": "stream",
     "text": [
      "Requirement already satisfied: torch in c:\\users\\i585498\\appdata\\local\\new_anaconda3\\envs\\text-summarization-project\\lib\\site-packages (2.0.1)\n",
      "Requirement already satisfied: filelock in c:\\users\\i585498\\appdata\\local\\new_anaconda3\\envs\\text-summarization-project\\lib\\site-packages (from torch) (3.12.3)\n",
      "Requirement already satisfied: typing-extensions in c:\\users\\i585498\\appdata\\local\\new_anaconda3\\envs\\text-summarization-project\\lib\\site-packages (from torch) (4.7.1)\n",
      "Requirement already satisfied: sympy in c:\\users\\i585498\\appdata\\local\\new_anaconda3\\envs\\text-summarization-project\\lib\\site-packages (from torch) (1.12)\n",
      "Requirement already satisfied: networkx in c:\\users\\i585498\\appdata\\local\\new_anaconda3\\envs\\text-summarization-project\\lib\\site-packages (from torch) (3.1)\n",
      "Requirement already satisfied: jinja2 in c:\\users\\i585498\\appdata\\local\\new_anaconda3\\envs\\text-summarization-project\\lib\\site-packages (from torch) (3.1.2)\n",
      "Requirement already satisfied: MarkupSafe>=2.0 in c:\\users\\i585498\\appdata\\local\\new_anaconda3\\envs\\text-summarization-project\\lib\\site-packages (from jinja2->torch) (2.1.3)\n",
      "Requirement already satisfied: mpmath>=0.19 in c:\\users\\i585498\\appdata\\local\\new_anaconda3\\envs\\text-summarization-project\\lib\\site-packages (from sympy->torch) (1.3.0)\n",
      "Collecting nltk\n",
      "  Using cached nltk-3.8.1-py3-none-any.whl (1.5 MB)\n",
      "Collecting click (from nltk)\n",
      "  Obtaining dependency information for click from https://files.pythonhosted.org/packages/00/2e/d53fa4befbf2cfa713304affc7ca780ce4fc1fd8710527771b58311a3229/click-8.1.7-py3-none-any.whl.metadata\n",
      "  Downloading click-8.1.7-py3-none-any.whl.metadata (3.0 kB)\n",
      "Collecting joblib (from nltk)\n",
      "  Obtaining dependency information for joblib from https://files.pythonhosted.org/packages/10/40/d551139c85db202f1f384ba8bcf96aca2f329440a844f924c8a0040b6d02/joblib-1.3.2-py3-none-any.whl.metadata\n",
      "  Downloading joblib-1.3.2-py3-none-any.whl.metadata (5.4 kB)\n",
      "Requirement already satisfied: regex>=2021.8.3 in c:\\users\\i585498\\appdata\\local\\new_anaconda3\\envs\\text-summarization-project\\lib\\site-packages (from nltk) (2023.8.8)\n",
      "Requirement already satisfied: tqdm in c:\\users\\i585498\\appdata\\local\\new_anaconda3\\envs\\text-summarization-project\\lib\\site-packages (from nltk) (4.66.1)\n",
      "Requirement already satisfied: colorama in c:\\users\\i585498\\appdata\\roaming\\python\\python311\\site-packages (from click->nltk) (0.4.6)\n",
      "Downloading click-8.1.7-py3-none-any.whl (97 kB)\n",
      "   ---------------------------------------- 0.0/97.9 kB ? eta -:--:--\n",
      "   ---------------------------------------- 97.9/97.9 kB 2.8 MB/s eta 0:00:00\n",
      "Downloading joblib-1.3.2-py3-none-any.whl (302 kB)\n",
      "   ---------------------------------------- 0.0/302.2 kB ? eta -:--:--\n",
      "   ---------------------------------------- 302.2/302.2 kB 9.4 MB/s eta 0:00:00\n",
      "Installing collected packages: joblib, click, nltk\n",
      "Successfully installed click-8.1.7 joblib-1.3.2 nltk-3.8.1\n"
     ]
    }
   ],
   "source": [
    "!pip install torch\n",
    "!pip install nltk"
   ]
  },
  {
   "cell_type": "code",
   "execution_count": 21,
   "metadata": {},
   "outputs": [
    {
     "name": "stdout",
     "output_type": "stream",
     "text": [
      "Requirement already satisfied: transformers[torch] in c:\\users\\i585498\\appdata\\local\\new_anaconda3\\envs\\text-summarization-project\\lib\\site-packages (4.33.1)\n",
      "Requirement already satisfied: filelock in c:\\users\\i585498\\appdata\\local\\new_anaconda3\\envs\\text-summarization-project\\lib\\site-packages (from transformers[torch]) (3.12.3)\n",
      "Requirement already satisfied: huggingface-hub<1.0,>=0.15.1 in c:\\users\\i585498\\appdata\\local\\new_anaconda3\\envs\\text-summarization-project\\lib\\site-packages (from transformers[torch]) (0.16.4)\n",
      "Requirement already satisfied: numpy>=1.17 in c:\\users\\i585498\\appdata\\local\\new_anaconda3\\envs\\text-summarization-project\\lib\\site-packages (from transformers[torch]) (1.25.2)\n",
      "Requirement already satisfied: packaging>=20.0 in c:\\users\\i585498\\appdata\\roaming\\python\\python311\\site-packages (from transformers[torch]) (23.0)\n",
      "Requirement already satisfied: pyyaml>=5.1 in c:\\users\\i585498\\appdata\\local\\new_anaconda3\\envs\\text-summarization-project\\lib\\site-packages (from transformers[torch]) (6.0.1)\n",
      "Requirement already satisfied: regex!=2019.12.17 in c:\\users\\i585498\\appdata\\local\\new_anaconda3\\envs\\text-summarization-project\\lib\\site-packages (from transformers[torch]) (2023.8.8)\n",
      "Requirement already satisfied: requests in c:\\users\\i585498\\appdata\\local\\new_anaconda3\\envs\\text-summarization-project\\lib\\site-packages (from transformers[torch]) (2.31.0)\n",
      "Requirement already satisfied: tokenizers!=0.11.3,<0.14,>=0.11.1 in c:\\users\\i585498\\appdata\\local\\new_anaconda3\\envs\\text-summarization-project\\lib\\site-packages (from transformers[torch]) (0.13.3)\n",
      "Requirement already satisfied: safetensors>=0.3.1 in c:\\users\\i585498\\appdata\\local\\new_anaconda3\\envs\\text-summarization-project\\lib\\site-packages (from transformers[torch]) (0.3.3)\n",
      "Requirement already satisfied: tqdm>=4.27 in c:\\users\\i585498\\appdata\\local\\new_anaconda3\\envs\\text-summarization-project\\lib\\site-packages (from transformers[torch]) (4.66.1)\n",
      "Requirement already satisfied: torch!=1.12.0,>=1.10 in c:\\users\\i585498\\appdata\\local\\new_anaconda3\\envs\\text-summarization-project\\lib\\site-packages (from transformers[torch]) (2.0.1)\n",
      "Collecting accelerate>=0.20.3 (from transformers[torch])\n",
      "  Obtaining dependency information for accelerate>=0.20.3 from https://files.pythonhosted.org/packages/4d/a7/05c67003d659a0035f2b3a8cf389c1d9645865aee84a73ce99ddab16682f/accelerate-0.22.0-py3-none-any.whl.metadata\n",
      "  Downloading accelerate-0.22.0-py3-none-any.whl.metadata (17 kB)\n",
      "Requirement already satisfied: psutil in c:\\users\\i585498\\appdata\\roaming\\python\\python311\\site-packages (from accelerate>=0.20.3->transformers[torch]) (5.9.4)\n",
      "Requirement already satisfied: fsspec in c:\\users\\i585498\\appdata\\local\\new_anaconda3\\envs\\text-summarization-project\\lib\\site-packages (from huggingface-hub<1.0,>=0.15.1->transformers[torch]) (2023.6.0)\n",
      "Requirement already satisfied: typing-extensions>=3.7.4.3 in c:\\users\\i585498\\appdata\\local\\new_anaconda3\\envs\\text-summarization-project\\lib\\site-packages (from huggingface-hub<1.0,>=0.15.1->transformers[torch]) (4.7.1)\n",
      "Requirement already satisfied: sympy in c:\\users\\i585498\\appdata\\local\\new_anaconda3\\envs\\text-summarization-project\\lib\\site-packages (from torch!=1.12.0,>=1.10->transformers[torch]) (1.12)\n",
      "Requirement already satisfied: networkx in c:\\users\\i585498\\appdata\\local\\new_anaconda3\\envs\\text-summarization-project\\lib\\site-packages (from torch!=1.12.0,>=1.10->transformers[torch]) (3.1)\n",
      "Requirement already satisfied: jinja2 in c:\\users\\i585498\\appdata\\local\\new_anaconda3\\envs\\text-summarization-project\\lib\\site-packages (from torch!=1.12.0,>=1.10->transformers[torch]) (3.1.2)\n",
      "Requirement already satisfied: colorama in c:\\users\\i585498\\appdata\\roaming\\python\\python311\\site-packages (from tqdm>=4.27->transformers[torch]) (0.4.6)\n",
      "Requirement already satisfied: charset-normalizer<4,>=2 in c:\\users\\i585498\\appdata\\local\\new_anaconda3\\envs\\text-summarization-project\\lib\\site-packages (from requests->transformers[torch]) (3.2.0)\n",
      "Requirement already satisfied: idna<4,>=2.5 in c:\\users\\i585498\\appdata\\local\\new_anaconda3\\envs\\text-summarization-project\\lib\\site-packages (from requests->transformers[torch]) (3.4)\n",
      "Requirement already satisfied: urllib3<3,>=1.21.1 in c:\\users\\i585498\\appdata\\local\\new_anaconda3\\envs\\text-summarization-project\\lib\\site-packages (from requests->transformers[torch]) (2.0.4)\n",
      "Requirement already satisfied: certifi>=2017.4.17 in c:\\users\\i585498\\appdata\\local\\new_anaconda3\\envs\\text-summarization-project\\lib\\site-packages (from requests->transformers[torch]) (2023.7.22)\n",
      "Requirement already satisfied: MarkupSafe>=2.0 in c:\\users\\i585498\\appdata\\local\\new_anaconda3\\envs\\text-summarization-project\\lib\\site-packages (from jinja2->torch!=1.12.0,>=1.10->transformers[torch]) (2.1.3)\n",
      "Requirement already satisfied: mpmath>=0.19 in c:\\users\\i585498\\appdata\\local\\new_anaconda3\\envs\\text-summarization-project\\lib\\site-packages (from sympy->torch!=1.12.0,>=1.10->transformers[torch]) (1.3.0)\n",
      "Downloading accelerate-0.22.0-py3-none-any.whl (251 kB)\n",
      "   ---------------------------------------- 0.0/251.2 kB ? eta -:--:--\n",
      "   ---------------------------------------- 251.2/251.2 kB 7.5 MB/s eta 0:00:00\n",
      "Installing collected packages: accelerate\n",
      "Successfully installed accelerate-0.22.0\n"
     ]
    }
   ],
   "source": [
    "!pip install transformers[torch]"
   ]
  },
  {
   "cell_type": "code",
   "execution_count": 22,
   "metadata": {},
   "outputs": [
    {
     "name": "stdout",
     "output_type": "stream",
     "text": [
      "Requirement already satisfied: accelerate in c:\\users\\i585498\\appdata\\local\\new_anaconda3\\envs\\text-summarization-project\\lib\\site-packages (0.22.0)\n",
      "Requirement already satisfied: numpy>=1.17 in c:\\users\\i585498\\appdata\\local\\new_anaconda3\\envs\\text-summarization-project\\lib\\site-packages (from accelerate) (1.25.2)\n",
      "Requirement already satisfied: packaging>=20.0 in c:\\users\\i585498\\appdata\\roaming\\python\\python311\\site-packages (from accelerate) (23.0)\n",
      "Requirement already satisfied: psutil in c:\\users\\i585498\\appdata\\roaming\\python\\python311\\site-packages (from accelerate) (5.9.4)\n",
      "Requirement already satisfied: pyyaml in c:\\users\\i585498\\appdata\\local\\new_anaconda3\\envs\\text-summarization-project\\lib\\site-packages (from accelerate) (6.0.1)\n",
      "Requirement already satisfied: torch>=1.10.0 in c:\\users\\i585498\\appdata\\local\\new_anaconda3\\envs\\text-summarization-project\\lib\\site-packages (from accelerate) (2.0.1)\n",
      "Requirement already satisfied: filelock in c:\\users\\i585498\\appdata\\local\\new_anaconda3\\envs\\text-summarization-project\\lib\\site-packages (from torch>=1.10.0->accelerate) (3.12.3)\n",
      "Requirement already satisfied: typing-extensions in c:\\users\\i585498\\appdata\\local\\new_anaconda3\\envs\\text-summarization-project\\lib\\site-packages (from torch>=1.10.0->accelerate) (4.7.1)\n",
      "Requirement already satisfied: sympy in c:\\users\\i585498\\appdata\\local\\new_anaconda3\\envs\\text-summarization-project\\lib\\site-packages (from torch>=1.10.0->accelerate) (1.12)\n",
      "Requirement already satisfied: networkx in c:\\users\\i585498\\appdata\\local\\new_anaconda3\\envs\\text-summarization-project\\lib\\site-packages (from torch>=1.10.0->accelerate) (3.1)\n",
      "Requirement already satisfied: jinja2 in c:\\users\\i585498\\appdata\\local\\new_anaconda3\\envs\\text-summarization-project\\lib\\site-packages (from torch>=1.10.0->accelerate) (3.1.2)\n",
      "Requirement already satisfied: MarkupSafe>=2.0 in c:\\users\\i585498\\appdata\\local\\new_anaconda3\\envs\\text-summarization-project\\lib\\site-packages (from jinja2->torch>=1.10.0->accelerate) (2.1.3)\n",
      "Requirement already satisfied: mpmath>=0.19 in c:\\users\\i585498\\appdata\\local\\new_anaconda3\\envs\\text-summarization-project\\lib\\site-packages (from sympy->torch>=1.10.0->accelerate) (1.3.0)\n"
     ]
    }
   ],
   "source": [
    "!pip install accelerate -U"
   ]
  },
  {
   "cell_type": "code",
   "execution_count": 1,
   "metadata": {},
   "outputs": [],
   "source": [
    "import os\n",
    "os.chdir(\"../\")"
   ]
  },
  {
   "cell_type": "code",
   "execution_count": 12,
   "metadata": {},
   "outputs": [
    {
     "name": "stderr",
     "output_type": "stream",
     "text": [
      "[nltk_data] Downloading package punkt to\n",
      "[nltk_data]     C:\\Users\\I585498\\AppData\\Roaming\\nltk_data...\n",
      "[nltk_data]   Package punkt is already up-to-date!\n"
     ]
    },
    {
     "data": {
      "text/plain": [
       "True"
      ]
     },
     "execution_count": 12,
     "metadata": {},
     "output_type": "execute_result"
    }
   ],
   "source": [
    "\n",
    "import sys\n",
    "from dataclasses import dataclass\n",
    "from pathlib import Path\n",
    "from src.constants.constants import CONFIG_PATH, PARAMS_PATH\n",
    "from src.loging import logger\n",
    "from src.utils.common import get_size, create_directories\n",
    "from src.utils.common import read_yaml\n",
    "from transformers import pipeline, set_seed\n",
    "from datasets import load_dataset, load_from_disk, load_metric\n",
    "from transformers import AutoModelForSeq2SeqLM, AutoTokenizer, DataCollatorForSeq2Seq, Seq2SeqTrainingArguments, Seq2SeqTrainer\n",
    "import pandas as pd\n",
    "from tqdm import tqdm\n",
    "import py7zr\n",
    "import nltk\n",
    "import torch\n",
    "\n",
    "nltk.download(\"punkt\")"
   ]
  },
  {
   "cell_type": "code",
   "execution_count": 13,
   "metadata": {},
   "outputs": [],
   "source": [
    "# Create entity\n",
    "@dataclass\n",
    "class ModelTrainingConfig:\n",
    "    root_dir: Path\n",
    "    data_path: Path\n",
    "    model_ckpt: str\n",
    "    num_epochs: int\n",
    "    warmup_steps: int\n",
    "    per_device_train_batch_size: int\n",
    "    per_device_eval_batch_size: int\n",
    "    weight_decay: float\n",
    "    logging_steps: int\n",
    "    fp16: bool\n",
    "    learning_rate: float"
   ]
  },
  {
   "cell_type": "code",
   "execution_count": 14,
   "metadata": {},
   "outputs": [],
   "source": [
    "class ConfigurationManager:\n",
    "    def __init__(self, config_path, params_path):\n",
    "        self.config_path = config_path\n",
    "        self.params_path = params_path\n",
    "        \n",
    "        self.config = read_yaml(self.config_path)\n",
    "        self.params = read_yaml(self.params_path)\n",
    "        \n",
    "        create_directories([self.config[\"model_training\"][\"root_dir\"]])\n",
    "        \n",
    "    def get_model_training_config(self):\n",
    "        return ModelTrainingConfig(\n",
    "            root_dir = Path(self.config[\"model_training\"][\"root_dir\"]),\n",
    "            data_path = Path(self.config[\"model_training\"][\"data_dir\"]),\n",
    "            model_ckpt = self.config[\"model_training\"][\"model_ckpt\"],\n",
    "            num_epochs = self.params[\"model_params\"][\"num_epochs\"],\n",
    "            warmup_steps = self.params[\"model_params\"][\"warmup_steps\"],\n",
    "            per_device_train_batch_size = self.params[\"model_params\"][\"per_device_train_batch_size\"],\n",
    "            per_device_eval_batch_size = self.params[\"model_params\"][\"per_device_eval_batch_size\"],\n",
    "            weight_decay = self.params[\"model_params\"][\"weight_decay\"],\n",
    "            logging_steps = self.params[\"model_params\"][\"logging_steps\"],\n",
    "            fp16 = self.params[\"model_params\"][\"fp16\"],\n",
    "            learning_rate = self.params[\"model_params\"][\"learning_rate\"]\n",
    "        )"
   ]
  },
  {
   "cell_type": "code",
   "execution_count": 15,
   "metadata": {},
   "outputs": [
    {
     "data": {
      "text/plain": [
       "False"
      ]
     },
     "execution_count": 15,
     "metadata": {},
     "output_type": "execute_result"
    }
   ],
   "source": [
    "torch.cuda.is_available()"
   ]
  },
  {
   "cell_type": "code",
   "execution_count": 16,
   "metadata": {},
   "outputs": [],
   "source": [
    "class ModelTraining:\n",
    "    def __init__(self, config: ConfigurationManager):\n",
    "        self.config = config.get_model_training_config()\n",
    "        \n",
    "    def train_model(self):\n",
    "        device = torch.device(\"cuda\") if torch.cuda.is_available() else torch.device(\"cpu\")\n",
    "        tokenizer = AutoTokenizer.from_pretrained(self.config.model_ckpt)\n",
    "        model = AutoModelForSeq2SeqLM.from_pretrained(self.config.model_ckpt).to(device)\n",
    "        seq2seq_collator = DataCollatorForSeq2Seq(tokenizer, model=model)\n",
    "        \n",
    "        train_dataset = load_from_disk(self.config.data_path)\n",
    "        \n",
    "        training_args = Seq2SeqTrainingArguments(\n",
    "            output_dir=self.config.root_dir,\n",
    "            per_device_train_batch_size=self.config.per_device_train_batch_size,\n",
    "            per_device_eval_batch_size=self.config.per_device_eval_batch_size,\n",
    "            predict_with_generate=True,\n",
    "            do_train=True,\n",
    "            do_eval=True,\n",
    "            logging_steps=self.config.logging_steps,\n",
    "            save_steps=self.config.logging_steps,\n",
    "            eval_steps=self.config.logging_steps,\n",
    "            warmup_steps=self.config.warmup_steps,\n",
    "            num_train_epochs=self.config.num_epochs,\n",
    "            #fp16=self.config.fp16,\n",
    "            learning_rate=self.config.learning_rate,\n",
    "            weight_decay=self.config.weight_decay,\n",
    "            overwrite_output_dir=True,\n",
    "            save_total_limit=1,\n",
    "        )\n",
    "        \n",
    "        trainer = Seq2SeqTrainer(\n",
    "            model=model,\n",
    "            tokenizer=tokenizer,\n",
    "            args=training_args,\n",
    "            compute_metrics=self.compute_metrics,\n",
    "            train_dataset=train_dataset[\"test\"],\n",
    "            data_collator=seq2seq_collator,\n",
    "            eval_dataset=train_dataset[\"validation\"],\n",
    "        )\n",
    "        \n",
    "        trainer.train()\n",
    "        \n",
    "        # save model\n",
    "        model.save_model(os.path.join(self.config.root_dir, \"model_pegasus\"))\n",
    "        tokenizer.save_pretrained(os.path.join(self.config.root_dir, \"tokenizer_pegasus\"))\n",
    "        \n",
    "   \n",
    "        "
   ]
  },
  {
   "cell_type": "code",
   "execution_count": 17,
   "metadata": {},
   "outputs": [
    {
     "name": "stdout",
     "output_type": "stream",
     "text": [
      "[2023-09-08 15:33:32,199]: INFO: 1828045357: >>>>> stage 4: model training started]\n",
      "[2023-09-08 15:33:32,216]: INFO: common: Successfully read yaml file from config\\config.yaml]\n",
      "[2023-09-08 15:33:32,225]: INFO: common: Successfully read yaml file from params.yaml]\n",
      "[2023-09-08 15:33:32,230]: INFO: common: Created directory: models/model_training]\n"
     ]
    },
    {
     "name": "stderr",
     "output_type": "stream",
     "text": [
      "Some weights of PegasusForConditionalGeneration were not initialized from the model checkpoint at google/pegasus-cnn_dailymail and are newly initialized: ['model.encoder.embed_positions.weight', 'model.decoder.embed_positions.weight']\n",
      "You should probably TRAIN this model on a down-stream task to be able to use it for predictions and inference.\n"
     ]
    },
    {
     "name": "stdout",
     "output_type": "stream",
     "text": [
      "[2023-09-08 15:34:12,617]: ERROR: 1828045357: 'ModelTraining' object has no attribute 'compute_metrics']\n"
     ]
    },
    {
     "ename": "AttributeError",
     "evalue": "'ModelTraining' object has no attribute 'compute_metrics'",
     "output_type": "error",
     "traceback": [
      "\u001b[1;31m---------------------------------------------------------------------------\u001b[0m",
      "\u001b[1;31mAttributeError\u001b[0m                            Traceback (most recent call last)",
      "Cell \u001b[1;32mIn[17], line 10\u001b[0m\n\u001b[0;32m      8\u001b[0m \u001b[39mexcept\u001b[39;00m \u001b[39mException\u001b[39;00m \u001b[39mas\u001b[39;00m e:\n\u001b[0;32m      9\u001b[0m     logger\u001b[39m.\u001b[39merror(e)\n\u001b[1;32m---> 10\u001b[0m     \u001b[39mraise\u001b[39;00m e\n",
      "Cell \u001b[1;32mIn[17], line 5\u001b[0m\n\u001b[0;32m      3\u001b[0m     config_manager \u001b[39m=\u001b[39m ConfigurationManager(CONFIG_PATH, PARAMS_PATH)\n\u001b[0;32m      4\u001b[0m     model_training \u001b[39m=\u001b[39m ModelTraining(config_manager)\n\u001b[1;32m----> 5\u001b[0m     model_training\u001b[39m.\u001b[39;49mtrain_model()\n\u001b[0;32m      6\u001b[0m     logger\u001b[39m.\u001b[39minfo(\u001b[39m\"\u001b[39m\u001b[39mstage 4: model training completed! \u001b[39m\u001b[39m\"\u001b[39m)\n\u001b[0;32m      8\u001b[0m \u001b[39mexcept\u001b[39;00m \u001b[39mException\u001b[39;00m \u001b[39mas\u001b[39;00m e:\n",
      "Cell \u001b[1;32mIn[16], line 36\u001b[0m, in \u001b[0;36mModelTraining.train_model\u001b[1;34m(self)\u001b[0m\n\u001b[0;32m     11\u001b[0m train_dataset \u001b[39m=\u001b[39m load_from_disk(\u001b[39mself\u001b[39m\u001b[39m.\u001b[39mconfig\u001b[39m.\u001b[39mdata_path)\n\u001b[0;32m     13\u001b[0m training_args \u001b[39m=\u001b[39m Seq2SeqTrainingArguments(\n\u001b[0;32m     14\u001b[0m     output_dir\u001b[39m=\u001b[39m\u001b[39mself\u001b[39m\u001b[39m.\u001b[39mconfig\u001b[39m.\u001b[39mroot_dir,\n\u001b[0;32m     15\u001b[0m     per_device_train_batch_size\u001b[39m=\u001b[39m\u001b[39mself\u001b[39m\u001b[39m.\u001b[39mconfig\u001b[39m.\u001b[39mper_device_train_batch_size,\n\u001b[1;32m   (...)\u001b[0m\n\u001b[0;32m     29\u001b[0m     save_total_limit\u001b[39m=\u001b[39m\u001b[39m1\u001b[39m,\n\u001b[0;32m     30\u001b[0m )\n\u001b[0;32m     32\u001b[0m trainer \u001b[39m=\u001b[39m Seq2SeqTrainer(\n\u001b[0;32m     33\u001b[0m     model\u001b[39m=\u001b[39mmodel,\n\u001b[0;32m     34\u001b[0m     tokenizer\u001b[39m=\u001b[39mtokenizer,\n\u001b[0;32m     35\u001b[0m     args\u001b[39m=\u001b[39mtraining_args,\n\u001b[1;32m---> 36\u001b[0m     compute_metrics\u001b[39m=\u001b[39m\u001b[39mself\u001b[39;49m\u001b[39m.\u001b[39;49mcompute_metrics,\n\u001b[0;32m     37\u001b[0m     train_dataset\u001b[39m=\u001b[39mtrain_dataset[\u001b[39m\"\u001b[39m\u001b[39mtest\u001b[39m\u001b[39m\"\u001b[39m],\n\u001b[0;32m     38\u001b[0m     data_collator\u001b[39m=\u001b[39mseq2seq_collator,\n\u001b[0;32m     39\u001b[0m     eval_dataset\u001b[39m=\u001b[39mtrain_dataset[\u001b[39m\"\u001b[39m\u001b[39mvalidation\u001b[39m\u001b[39m\"\u001b[39m],\n\u001b[0;32m     40\u001b[0m )\n\u001b[0;32m     42\u001b[0m trainer\u001b[39m.\u001b[39mtrain()\n\u001b[0;32m     44\u001b[0m \u001b[39m# save model\u001b[39;00m\n",
      "\u001b[1;31mAttributeError\u001b[0m: 'ModelTraining' object has no attribute 'compute_metrics'"
     ]
    }
   ],
   "source": [
    "try:\n",
    "    logger.info(\">>>>> stage 4: model training started\")\n",
    "    config_manager = ConfigurationManager(CONFIG_PATH, PARAMS_PATH)\n",
    "    model_training = ModelTraining(config_manager)\n",
    "    model_training.train_model()\n",
    "    logger.info(\"stage 4: model training completed! \")\n",
    "\n",
    "except Exception as e:\n",
    "    logger.error(e)\n",
    "    raise e"
   ]
  },
  {
   "cell_type": "code",
   "execution_count": null,
   "metadata": {},
   "outputs": [],
   "source": []
  }
 ],
 "metadata": {
  "kernelspec": {
   "display_name": "text-summarization-project",
   "language": "python",
   "name": "python3"
  },
  "language_info": {
   "codemirror_mode": {
    "name": "ipython",
    "version": 3
   },
   "file_extension": ".py",
   "mimetype": "text/x-python",
   "name": "python",
   "nbconvert_exporter": "python",
   "pygments_lexer": "ipython3",
   "version": "3.11.4"
  },
  "orig_nbformat": 4
 },
 "nbformat": 4,
 "nbformat_minor": 2
}
