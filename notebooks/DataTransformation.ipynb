{
 "cells": [
  {
   "cell_type": "code",
   "execution_count": 1,
   "metadata": {},
   "outputs": [
    {
     "name": "stdout",
     "output_type": "stream",
     "text": [
      "Requirement already satisfied: transformers in c:\\users\\i585498\\appdata\\local\\new_anaconda3\\envs\\text-summarization-project\\lib\\site-packages (4.33.1)\n",
      "Requirement already satisfied: filelock in c:\\users\\i585498\\appdata\\local\\new_anaconda3\\envs\\text-summarization-project\\lib\\site-packages (from transformers) (3.12.3)\n",
      "Requirement already satisfied: huggingface-hub<1.0,>=0.15.1 in c:\\users\\i585498\\appdata\\local\\new_anaconda3\\envs\\text-summarization-project\\lib\\site-packages (from transformers) (0.16.4)\n",
      "Requirement already satisfied: numpy>=1.17 in c:\\users\\i585498\\appdata\\local\\new_anaconda3\\envs\\text-summarization-project\\lib\\site-packages (from transformers) (1.25.2)\n",
      "Requirement already satisfied: packaging>=20.0 in c:\\users\\i585498\\appdata\\roaming\\python\\python311\\site-packages (from transformers) (23.0)\n",
      "Requirement already satisfied: pyyaml>=5.1 in c:\\users\\i585498\\appdata\\local\\new_anaconda3\\envs\\text-summarization-project\\lib\\site-packages (from transformers) (6.0.1)\n",
      "Requirement already satisfied: regex!=2019.12.17 in c:\\users\\i585498\\appdata\\local\\new_anaconda3\\envs\\text-summarization-project\\lib\\site-packages (from transformers) (2023.8.8)\n",
      "Requirement already satisfied: requests in c:\\users\\i585498\\appdata\\local\\new_anaconda3\\envs\\text-summarization-project\\lib\\site-packages (from transformers) (2.31.0)\n",
      "Requirement already satisfied: tokenizers!=0.11.3,<0.14,>=0.11.1 in c:\\users\\i585498\\appdata\\local\\new_anaconda3\\envs\\text-summarization-project\\lib\\site-packages (from transformers) (0.13.3)\n",
      "Requirement already satisfied: safetensors>=0.3.1 in c:\\users\\i585498\\appdata\\local\\new_anaconda3\\envs\\text-summarization-project\\lib\\site-packages (from transformers) (0.3.3)\n",
      "Requirement already satisfied: tqdm>=4.27 in c:\\users\\i585498\\appdata\\local\\new_anaconda3\\envs\\text-summarization-project\\lib\\site-packages (from transformers) (4.66.1)\n",
      "Requirement already satisfied: fsspec in c:\\users\\i585498\\appdata\\local\\new_anaconda3\\envs\\text-summarization-project\\lib\\site-packages (from huggingface-hub<1.0,>=0.15.1->transformers) (2023.6.0)\n",
      "Requirement already satisfied: typing-extensions>=3.7.4.3 in c:\\users\\i585498\\appdata\\local\\new_anaconda3\\envs\\text-summarization-project\\lib\\site-packages (from huggingface-hub<1.0,>=0.15.1->transformers) (4.7.1)\n",
      "Requirement already satisfied: colorama in c:\\users\\i585498\\appdata\\roaming\\python\\python311\\site-packages (from tqdm>=4.27->transformers) (0.4.6)\n",
      "Requirement already satisfied: charset-normalizer<4,>=2 in c:\\users\\i585498\\appdata\\local\\new_anaconda3\\envs\\text-summarization-project\\lib\\site-packages (from requests->transformers) (3.2.0)\n",
      "Requirement already satisfied: idna<4,>=2.5 in c:\\users\\i585498\\appdata\\local\\new_anaconda3\\envs\\text-summarization-project\\lib\\site-packages (from requests->transformers) (3.4)\n",
      "Requirement already satisfied: urllib3<3,>=1.21.1 in c:\\users\\i585498\\appdata\\local\\new_anaconda3\\envs\\text-summarization-project\\lib\\site-packages (from requests->transformers) (2.0.4)\n",
      "Requirement already satisfied: certifi>=2017.4.17 in c:\\users\\i585498\\appdata\\local\\new_anaconda3\\envs\\text-summarization-project\\lib\\site-packages (from requests->transformers) (2023.7.22)\n",
      "Requirement already satisfied: datasets in c:\\users\\i585498\\appdata\\local\\new_anaconda3\\envs\\text-summarization-project\\lib\\site-packages (2.14.5)\n",
      "Requirement already satisfied: numpy>=1.17 in c:\\users\\i585498\\appdata\\local\\new_anaconda3\\envs\\text-summarization-project\\lib\\site-packages (from datasets) (1.25.2)\n",
      "Requirement already satisfied: pyarrow>=8.0.0 in c:\\users\\i585498\\appdata\\local\\new_anaconda3\\envs\\text-summarization-project\\lib\\site-packages (from datasets) (13.0.0)\n",
      "Requirement already satisfied: dill<0.3.8,>=0.3.0 in c:\\users\\i585498\\appdata\\local\\new_anaconda3\\envs\\text-summarization-project\\lib\\site-packages (from datasets) (0.3.7)\n",
      "Requirement already satisfied: pandas in c:\\users\\i585498\\appdata\\local\\new_anaconda3\\envs\\text-summarization-project\\lib\\site-packages (from datasets) (2.1.0)\n",
      "Requirement already satisfied: requests>=2.19.0 in c:\\users\\i585498\\appdata\\local\\new_anaconda3\\envs\\text-summarization-project\\lib\\site-packages (from datasets) (2.31.0)\n",
      "Requirement already satisfied: tqdm>=4.62.1 in c:\\users\\i585498\\appdata\\local\\new_anaconda3\\envs\\text-summarization-project\\lib\\site-packages (from datasets) (4.66.1)\n",
      "Requirement already satisfied: xxhash in c:\\users\\i585498\\appdata\\local\\new_anaconda3\\envs\\text-summarization-project\\lib\\site-packages (from datasets) (3.3.0)\n",
      "Requirement already satisfied: multiprocess in c:\\users\\i585498\\appdata\\local\\new_anaconda3\\envs\\text-summarization-project\\lib\\site-packages (from datasets) (0.70.15)\n",
      "Requirement already satisfied: fsspec[http]<2023.9.0,>=2023.1.0 in c:\\users\\i585498\\appdata\\local\\new_anaconda3\\envs\\text-summarization-project\\lib\\site-packages (from datasets) (2023.6.0)\n",
      "Requirement already satisfied: aiohttp in c:\\users\\i585498\\appdata\\local\\new_anaconda3\\envs\\text-summarization-project\\lib\\site-packages (from datasets) (3.8.5)\n",
      "Requirement already satisfied: huggingface-hub<1.0.0,>=0.14.0 in c:\\users\\i585498\\appdata\\local\\new_anaconda3\\envs\\text-summarization-project\\lib\\site-packages (from datasets) (0.16.4)\n",
      "Requirement already satisfied: packaging in c:\\users\\i585498\\appdata\\roaming\\python\\python311\\site-packages (from datasets) (23.0)\n",
      "Requirement already satisfied: pyyaml>=5.1 in c:\\users\\i585498\\appdata\\local\\new_anaconda3\\envs\\text-summarization-project\\lib\\site-packages (from datasets) (6.0.1)\n",
      "Requirement already satisfied: attrs>=17.3.0 in c:\\users\\i585498\\appdata\\local\\new_anaconda3\\envs\\text-summarization-project\\lib\\site-packages (from aiohttp->datasets) (23.1.0)\n",
      "Requirement already satisfied: charset-normalizer<4.0,>=2.0 in c:\\users\\i585498\\appdata\\local\\new_anaconda3\\envs\\text-summarization-project\\lib\\site-packages (from aiohttp->datasets) (3.2.0)\n",
      "Requirement already satisfied: multidict<7.0,>=4.5 in c:\\users\\i585498\\appdata\\local\\new_anaconda3\\envs\\text-summarization-project\\lib\\site-packages (from aiohttp->datasets) (6.0.4)\n",
      "Requirement already satisfied: async-timeout<5.0,>=4.0.0a3 in c:\\users\\i585498\\appdata\\local\\new_anaconda3\\envs\\text-summarization-project\\lib\\site-packages (from aiohttp->datasets) (4.0.3)\n",
      "Requirement already satisfied: yarl<2.0,>=1.0 in c:\\users\\i585498\\appdata\\local\\new_anaconda3\\envs\\text-summarization-project\\lib\\site-packages (from aiohttp->datasets) (1.9.2)\n",
      "Requirement already satisfied: frozenlist>=1.1.1 in c:\\users\\i585498\\appdata\\local\\new_anaconda3\\envs\\text-summarization-project\\lib\\site-packages (from aiohttp->datasets) (1.4.0)\n",
      "Requirement already satisfied: aiosignal>=1.1.2 in c:\\users\\i585498\\appdata\\local\\new_anaconda3\\envs\\text-summarization-project\\lib\\site-packages (from aiohttp->datasets) (1.3.1)\n",
      "Requirement already satisfied: filelock in c:\\users\\i585498\\appdata\\local\\new_anaconda3\\envs\\text-summarization-project\\lib\\site-packages (from huggingface-hub<1.0.0,>=0.14.0->datasets) (3.12.3)\n",
      "Requirement already satisfied: typing-extensions>=3.7.4.3 in c:\\users\\i585498\\appdata\\local\\new_anaconda3\\envs\\text-summarization-project\\lib\\site-packages (from huggingface-hub<1.0.0,>=0.14.0->datasets) (4.7.1)\n",
      "Requirement already satisfied: idna<4,>=2.5 in c:\\users\\i585498\\appdata\\local\\new_anaconda3\\envs\\text-summarization-project\\lib\\site-packages (from requests>=2.19.0->datasets) (3.4)\n",
      "Requirement already satisfied: urllib3<3,>=1.21.1 in c:\\users\\i585498\\appdata\\local\\new_anaconda3\\envs\\text-summarization-project\\lib\\site-packages (from requests>=2.19.0->datasets) (2.0.4)\n",
      "Requirement already satisfied: certifi>=2017.4.17 in c:\\users\\i585498\\appdata\\local\\new_anaconda3\\envs\\text-summarization-project\\lib\\site-packages (from requests>=2.19.0->datasets) (2023.7.22)\n",
      "Requirement already satisfied: colorama in c:\\users\\i585498\\appdata\\roaming\\python\\python311\\site-packages (from tqdm>=4.62.1->datasets) (0.4.6)\n",
      "Requirement already satisfied: python-dateutil>=2.8.2 in c:\\users\\i585498\\appdata\\local\\new_anaconda3\\envs\\text-summarization-project\\lib\\site-packages (from pandas->datasets) (2.8.2)\n",
      "Requirement already satisfied: pytz>=2020.1 in c:\\users\\i585498\\appdata\\local\\new_anaconda3\\envs\\text-summarization-project\\lib\\site-packages (from pandas->datasets) (2023.3.post1)\n",
      "Requirement already satisfied: tzdata>=2022.1 in c:\\users\\i585498\\appdata\\local\\new_anaconda3\\envs\\text-summarization-project\\lib\\site-packages (from pandas->datasets) (2023.3)\n",
      "Requirement already satisfied: six>=1.5 in c:\\users\\i585498\\appdata\\local\\new_anaconda3\\envs\\text-summarization-project\\lib\\site-packages (from python-dateutil>=2.8.2->pandas->datasets) (1.16.0)\n",
      "Requirement already satisfied: sentencepiece in c:\\users\\i585498\\appdata\\local\\new_anaconda3\\envs\\text-summarization-project\\lib\\site-packages (0.1.99)\n",
      "Collecting torch\n",
      "  Using cached torch-2.0.1-cp311-cp311-win_amd64.whl (172.3 MB)\n",
      "Requirement already satisfied: filelock in c:\\users\\i585498\\appdata\\local\\new_anaconda3\\envs\\text-summarization-project\\lib\\site-packages (from torch) (3.12.3)\n",
      "Requirement already satisfied: typing-extensions in c:\\users\\i585498\\appdata\\local\\new_anaconda3\\envs\\text-summarization-project\\lib\\site-packages (from torch) (4.7.1)\n",
      "Collecting sympy (from torch)\n",
      "  Using cached sympy-1.12-py3-none-any.whl (5.7 MB)\n",
      "Collecting networkx (from torch)\n",
      "  Using cached networkx-3.1-py3-none-any.whl (2.1 MB)\n",
      "Collecting jinja2 (from torch)\n",
      "  Using cached Jinja2-3.1.2-py3-none-any.whl (133 kB)\n",
      "Collecting MarkupSafe>=2.0 (from jinja2->torch)\n",
      "  Obtaining dependency information for MarkupSafe>=2.0 from https://files.pythonhosted.org/packages/be/bb/08b85bc194034efbf572e70c3951549c8eca0ada25363afc154386b5390a/MarkupSafe-2.1.3-cp311-cp311-win_amd64.whl.metadata\n",
      "  Downloading MarkupSafe-2.1.3-cp311-cp311-win_amd64.whl.metadata (3.1 kB)\n",
      "Collecting mpmath>=0.19 (from sympy->torch)\n",
      "  Using cached mpmath-1.3.0-py3-none-any.whl (536 kB)\n",
      "Downloading MarkupSafe-2.1.3-cp311-cp311-win_amd64.whl (17 kB)\n",
      "Installing collected packages: mpmath, sympy, networkx, MarkupSafe, jinja2, torch\n",
      "Successfully installed MarkupSafe-2.1.3 jinja2-3.1.2 mpmath-1.3.0 networkx-3.1 sympy-1.12 torch-2.0.1\n"
     ]
    }
   ],
   "source": [
    "!pip install transformers\n",
    "!pip install datasets\n",
    "!pip install sentencepiece\n",
    "!pip install torch"
   ]
  },
  {
   "cell_type": "code",
   "execution_count": 12,
   "metadata": {},
   "outputs": [
    {
     "name": "stdout",
     "output_type": "stream",
     "text": [
      "Collecting protobuf\n",
      "  Obtaining dependency information for protobuf from https://files.pythonhosted.org/packages/5e/46/5b9674a33cbf690ffdd79ab1863767a66461cd06ea7aeb9f90e4e50be7a5/protobuf-4.24.3-cp310-abi3-win_amd64.whl.metadata\n",
      "  Downloading protobuf-4.24.3-cp310-abi3-win_amd64.whl.metadata (540 bytes)\n",
      "Downloading protobuf-4.24.3-cp310-abi3-win_amd64.whl (430 kB)\n",
      "   ---------------------------------------- 0.0/430.5 kB ? eta -:--:--\n",
      "   ---------------------------------------- 0.0/430.5 kB ? eta -:--:--\n",
      "   ---------------------------------------- 0.0/430.5 kB ? eta -:--:--\n",
      "   -- ------------------------------------- 30.7/430.5 kB ? eta -:--:--\n",
      "   --- ----------------------------------- 41.0/430.5 kB 653.6 kB/s eta 0:00:01\n",
      "   ------- ------------------------------- 81.9/430.5 kB 651.6 kB/s eta 0:00:01\n",
      "   ------------------------ --------------- 266.2/430.5 kB 1.6 MB/s eta 0:00:01\n",
      "   ---------------------------- ----------- 307.2/430.5 kB 1.9 MB/s eta 0:00:01\n",
      "   ---------------------------- ----------- 307.2/430.5 kB 1.9 MB/s eta 0:00:01\n",
      "   ---------------------------------------  430.1/430.5 kB 1.5 MB/s eta 0:00:01\n",
      "   ---------------------------------------- 430.5/430.5 kB 1.4 MB/s eta 0:00:00\n",
      "Installing collected packages: protobuf\n",
      "Successfully installed protobuf-4.24.3\n"
     ]
    }
   ],
   "source": [
    "!pip install protobuf\n"
   ]
  },
  {
   "cell_type": "code",
   "execution_count": 2,
   "metadata": {},
   "outputs": [],
   "source": [
    "import os\n",
    "os.chdir(\"../\")"
   ]
  },
  {
   "cell_type": "code",
   "execution_count": 36,
   "metadata": {},
   "outputs": [],
   "source": [
    "\n",
    "import json\n",
    "import sys\n",
    "from dataclasses import dataclass\n",
    "from pathlib import Path\n",
    "from src.constants.constants import CONFIG_PATH, PARAMS_PATH\n",
    "from src.loging import logger\n",
    "from src.utils.common import get_size, create_directories\n",
    "from src.utils.common import read_yaml\n",
    "from transformers import AutoTokenizer\n",
    "from datasets import load_dataset, load_from_disk, Dataset, DatasetDict"
   ]
  },
  {
   "cell_type": "code",
   "execution_count": 21,
   "metadata": {},
   "outputs": [],
   "source": [
    "@dataclass(frozen=True)\n",
    "class DataTransformationConfig:\n",
    "    root_dir: Path\n",
    "    data_path: Path\n",
    "    tokenizer_name: str"
   ]
  },
  {
   "cell_type": "code",
   "execution_count": 22,
   "metadata": {},
   "outputs": [],
   "source": [
    "class ConfigurationManager:\n",
    "    def __init__(self, config_path, params_path):\n",
    "          \n",
    "        self.config = read_yaml(config_path)\n",
    "        self.params = read_yaml(params_path)\n",
    "        \n",
    "        create_directories([self.config[\"data_transformation\"][\"root_dir\"]])\n",
    "        #create_directories([self.config[\"data_transformation\"][\"data_path\"]])\n",
    "        \n",
    "    def  get_data_transformation_config(self):\n",
    "        return DataTransformationConfig(\n",
    "            root_dir = Path(self.config[\"data_transformation\"][\"root_dir\"]),\n",
    "            data_path = Path(self.config[\"data_transformation\"][\"data_path\"]),\n",
    "            tokenizer_name = self.config[\"data_transformation\"][\"tokenizer_name\"]\n",
    "        )      \n",
    "\n",
    " "
   ]
  },
  {
   "cell_type": "code",
   "execution_count": 41,
   "metadata": {},
   "outputs": [],
   "source": [
    "class DataTransformation:\n",
    "    def __init__(self, config):\n",
    "        self.config = config\n",
    "        self.tokenizer = AutoTokenizer.from_pretrained(self.config.tokenizer_name)\n",
    "        \n",
    "    def convert_examples_to_features(self, example_batch):\n",
    "        input_encodings = self.tokenizer(example_batch['dialogue'], max_length=1024, truncation=True)\n",
    "\n",
    "        target_encodings = self.tokenizer(text_target=example_batch['summary'], max_length = 128, truncation = True )\n",
    "\n",
    "        return {\n",
    "            \"input_ids\": input_encodings[\"input_ids\"],\n",
    "            \"attention_mask\": input_encodings[\"attention_mask\"],\n",
    "            \"labels\": target_encodings[\"input_ids\"]\n",
    "\n",
    "        }\n",
    "        \n",
    "    def transform_data_to_transformers_format(self):\n",
    "        # Load each of your datasets\n",
    "        with open(os.path.join(self.config.data_path, \"train.json\"), 'r') as file:\n",
    "            train_data = json.load(file)\n",
    "\n",
    "        with open(os.path.join(self.config.data_path, \"test.json\"), 'r') as file:\n",
    "            test_data = json.load(file)\n",
    "        \n",
    "        with open(os.path.join(self.config.data_path, \"val.json\"), 'r') as file:\n",
    "            val_data = json.load(file)\n",
    "\n",
    "        # Convert each list of dictionaries to a HuggingFace Dataset\n",
    "        train_dataset = Dataset.from_dict({k: [dic[k] for dic in train_data] for k in train_data[0]})\n",
    "        test_dataset = Dataset.from_dict({k: [dic[k] for dic in test_data] for k in test_data[0]})\n",
    "        val_dataset = Dataset.from_dict({k: [dic[k] for dic in val_data] for k in val_data[0]})\n",
    "        \n",
    "        \n",
    "        \n",
    "        dataset_dict = DatasetDict({\n",
    "            'train': train_dataset,\n",
    "            'test': test_dataset,  \n",
    "            'validation': val_dataset\n",
    "        })\n",
    "        \n",
    "        save_path = os.path.join(self.config.data_path, \"transformers_format_data\")\n",
    "        dataset_dict.save_to_disk(save_path)\n",
    "        \n",
    "    def convert_to_features(self):\n",
    "        load_path = os.path.join(self.config.data_path, \"transformers_format_data\")\n",
    "        loaded_dataset_dict = load_from_disk(load_path)\n",
    "\n",
    "        # Assuming self.convert_examples_to_features is defined elsewhere in your class\n",
    "        loaded_train_dataset = loaded_dataset_dict['train'].map(self.convert_examples_to_features, batched=True)\n",
    "        loaded_test_dataset = loaded_dataset_dict['test'].map(self.convert_examples_to_features, batched=True)\n",
    "        loaded_val_dataset = loaded_dataset_dict['validation'].map(self.convert_examples_to_features, batched=True)\n",
    "\n",
    "        # Combine the processed datasets\n",
    "        processed_dataset_dict = DatasetDict({\n",
    "            'train': loaded_train_dataset,\n",
    "            'test': loaded_test_dataset,\n",
    "            'validation': loaded_val_dataset\n",
    "        })\n",
    "\n",
    "        save_path = os.path.join(self.config.root_dir, \"transformed_data\")\n",
    "        processed_dataset_dict.save_to_disk(save_path)\n",
    "        \n",
    "        \n",
    "        "
   ]
  },
  {
   "cell_type": "code",
   "execution_count": 42,
   "metadata": {},
   "outputs": [
    {
     "name": "stdout",
     "output_type": "stream",
     "text": [
      "[2023-09-08 10:44:27,254]: INFO: 49870760: >>>>> stage: data_transformation]\n",
      "[2023-09-08 10:44:27,260]: INFO: common: Successfully read yaml file from config\\config.yaml]\n",
      "[2023-09-08 10:44:27,263]: INFO: common: Successfully read yaml file from params.yaml]\n",
      "[2023-09-08 10:44:27,266]: INFO: common: Created directory: data/data_transformation]\n"
     ]
    },
    {
     "name": "stderr",
     "output_type": "stream",
     "text": [
      "Saving the dataset (1/1 shards): 100%|██████████| 14732/14732 [00:00<00:00, 728644.21 examples/s]\n",
      "Saving the dataset (1/1 shards): 100%|██████████| 819/819 [00:00<00:00, 81921.56 examples/s] \n",
      "Saving the dataset (1/1 shards): 100%|██████████| 818/818 [00:00<00:00, 60473.09 examples/s]\n",
      "Map: 100%|██████████| 14732/14732 [00:05<00:00, 2502.19 examples/s]\n",
      "Map: 100%|██████████| 819/819 [00:00<00:00, 2523.62 examples/s]\n",
      "Map: 100%|██████████| 818/818 [00:00<00:00, 2531.21 examples/s]\n",
      "Saving the dataset (1/1 shards): 100%|██████████| 14732/14732 [00:00<00:00, 306719.51 examples/s]\n",
      "Saving the dataset (1/1 shards): 100%|██████████| 819/819 [00:00<00:00, 74223.44 examples/s]\n",
      "Saving the dataset (1/1 shards): 100%|██████████| 818/818 [00:00<00:00, 55774.96 examples/s]"
     ]
    },
    {
     "name": "stdout",
     "output_type": "stream",
     "text": [
      "[2023-09-08 10:44:36,184]: INFO: 49870760: stage completed successfully]\n"
     ]
    },
    {
     "name": "stderr",
     "output_type": "stream",
     "text": [
      "\n"
     ]
    }
   ],
   "source": [
    "# Create pipeline\n",
    "try:\n",
    "    logger.info(\">>>>> stage: data_transformation\")\n",
    "    config_manager = ConfigurationManager(CONFIG_PATH, PARAMS_PATH)\n",
    "    data_transformation_config = config_manager.get_data_transformation_config()\n",
    "    data_transformation = DataTransformation(data_transformation_config)\n",
    "    data_transformation.transform_data_to_transformers_format()\n",
    "    data_transformation.convert_to_features()\n",
    "    logger.info(\"stage completed successfully\")\n",
    "except Exception as e:\n",
    "    logger.error(e)\n",
    "    raise e\n",
    "    "
   ]
  },
  {
   "cell_type": "code",
   "execution_count": null,
   "metadata": {},
   "outputs": [],
   "source": []
  }
 ],
 "metadata": {
  "kernelspec": {
   "display_name": "text-summarization-project",
   "language": "python",
   "name": "python3"
  },
  "language_info": {
   "codemirror_mode": {
    "name": "ipython",
    "version": 3
   },
   "file_extension": ".py",
   "mimetype": "text/x-python",
   "name": "python",
   "nbconvert_exporter": "python",
   "pygments_lexer": "ipython3",
   "version": "3.11.4"
  },
  "orig_nbformat": 4
 },
 "nbformat": 4,
 "nbformat_minor": 2
}
