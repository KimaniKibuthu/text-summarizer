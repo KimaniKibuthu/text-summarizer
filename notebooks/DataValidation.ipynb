{
 "cells": [
  {
   "cell_type": "code",
   "execution_count": 1,
   "metadata": {},
   "outputs": [],
   "source": [
    "\n",
    "import os\n",
    "os.chdir(\"../\")\n",
    "import sys\n",
    "from dataclasses import dataclass\n",
    "from pathlib import Path\n",
    "from src.constants.constants import CONFIG_PATH, PARAMS_PATH\n",
    "from src.loging import logger\n",
    "from src.utils.common import get_size, create_directories\n",
    "from src.utils.common import read_yaml"
   ]
  },
  {
   "cell_type": "code",
   "execution_count": 2,
   "metadata": {},
   "outputs": [],
   "source": [
    "@dataclass(frozen=True)\n",
    "class DataValidationConfig:\n",
    "    root_dir: Path\n",
    "    STATUS_FILE: str\n",
    "    ALL_REQUIRED_FILES: list"
   ]
  },
  {
   "cell_type": "code",
   "execution_count": 8,
   "metadata": {},
   "outputs": [],
   "source": [
    "class ConfigurationManager:\n",
    "    def __init__(self, config_path, params_path):\n",
    "        self.config = read_yaml(config_path)\n",
    "        self.params = read_yaml(params_path)\n",
    "        \n",
    "        create_directories([self.config[\"data_validation\"][\"root_dir\"]])\n",
    "    \n",
    "    def get_data_validation_config(self):\n",
    "        return DataValidationConfig(\n",
    "            root_dir = Path(self.config[\"data_validation\"][\"root_dir\"]),\n",
    "            STATUS_FILE = self.config[\"data_validation\"][\"STATUS_FILE\"],\n",
    "            ALL_REQUIRED_FILES = self.config[\"data_validation\"][\"ALL_REQUIRED_FILES\"]\n",
    "        )\n",
    "        "
   ]
  },
  {
   "cell_type": "code",
   "execution_count": 21,
   "metadata": {},
   "outputs": [],
   "source": [
    "class DataValidation:\n",
    "    def __init__(self, config: DataValidationConfig):\n",
    "        self.config = config\n",
    "        self.status_file = self.config.STATUS_FILE\n",
    "        self.all_required_files = self.config.ALL_REQUIRED_FILES\n",
    "\n",
    "    def _write_validation_status(self, filename, status):\n",
    "        \"\"\"Helper function to write validation status.\"\"\"\n",
    "        with open(self.status_file, \"a\") as f:\n",
    "            f.write(f\"Validation for {filename} is {status}\\n\")\n",
    "            \n",
    "    def validate_all_files(self):\n",
    "        try:\n",
    "            logger.info(\"Start: Validate all files\")\n",
    "            \n",
    "            # Clear the status file before writing\n",
    "            open(self.status_file, 'w').close()\n",
    "            \n",
    "            all_files = [file for file in self.config.root_dir.parent.glob(\"**/*\") if file.is_file()]\n",
    "           \n",
    "            \n",
    "            for file in all_files:\n",
    "                if file.name in self.all_required_files:\n",
    "                    validation_status = file.stat().st_size > 0\n",
    "                    self._write_validation_status(file.name, validation_status)\n",
    "                    \n",
    "                    if not validation_status:\n",
    "                        break\n",
    "            \n",
    "            logger.info(\"End: Validate all files\")\n",
    "            return validation_status\n",
    "\n",
    "        except Exception as e:\n",
    "            logger.error(f\"Error during validation: {e}\")\n",
    "            return False\n"
   ]
  },
  {
   "cell_type": "code",
   "execution_count": 22,
   "metadata": {},
   "outputs": [
    {
     "name": "stdout",
     "output_type": "stream",
     "text": [
      "[2023-09-07 19:03:15,615]: INFO: 1842313794: Start: Data Validation]\n",
      "[2023-09-07 19:03:15,621]: INFO: common: Successfully read yaml file from config\\config.yaml]\n",
      "[2023-09-07 19:03:15,625]: INFO: common: Successfully read yaml file from params.yaml]\n",
      "[2023-09-07 19:03:15,628]: INFO: common: Created directory: data/data_validation]\n",
      "[2023-09-07 19:03:15,630]: INFO: 1811115846: Start: Validate all files]\n",
      "[WindowsPath('data/corpus.7z'), WindowsPath('data/README.md'), WindowsPath('data/data_ingestion/data.7z'), WindowsPath('data/data_ingestion/raw_data/licence.txt'), WindowsPath('data/data_ingestion/raw_data/README.txt'), WindowsPath('data/data_ingestion/raw_data/test.json'), WindowsPath('data/data_ingestion/raw_data/train.json'), WindowsPath('data/data_ingestion/raw_data/val.json'), WindowsPath('data/data_validation/status.txt')]\n",
      "[2023-09-07 19:03:15,643]: INFO: 1811115846: End: Validate all files]\n",
      "[2023-09-07 19:03:15,645]: INFO: 1842313794: End: Data Validation]\n"
     ]
    }
   ],
   "source": [
    "try:\n",
    "    logger.info(\"Start: Data Validation\")\n",
    "    config_manager = ConfigurationManager(CONFIG_PATH, PARAMS_PATH)\n",
    "    config = config_manager.get_data_validation_config()\n",
    "    data_validation = DataValidation(config)\n",
    "    data_validation.validate_all_files()\n",
    "    logger.info(\"End: Data Validation\")\n",
    "\n",
    "except Exception as e:\n",
    "    logger.error(f\"Error: Data Validation failed: {e}\")\n",
    "    raise e"
   ]
  },
  {
   "cell_type": "code",
   "execution_count": null,
   "metadata": {},
   "outputs": [],
   "source": []
  }
 ],
 "metadata": {
  "kernelspec": {
   "display_name": "text-summarization-project",
   "language": "python",
   "name": "python3"
  },
  "language_info": {
   "codemirror_mode": {
    "name": "ipython",
    "version": 3
   },
   "file_extension": ".py",
   "mimetype": "text/x-python",
   "name": "python",
   "nbconvert_exporter": "python",
   "pygments_lexer": "ipython3",
   "version": "3.11.4"
  },
  "orig_nbformat": 4
 },
 "nbformat": 4,
 "nbformat_minor": 2
}
