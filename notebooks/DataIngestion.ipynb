{
 "cells": [
  {
   "cell_type": "markdown",
   "metadata": {},
   "source": [
    "# Data Ingestion \n",
    "This is a notebook on data ingestion"
   ]
  },
  {
   "cell_type": "markdown",
   "metadata": {},
   "source": [
    "# Import necessary libraries"
   ]
  },
  {
   "cell_type": "code",
   "execution_count": 11,
   "metadata": {},
   "outputs": [],
   "source": [
    "# import os\n",
    "\n",
    "# def get_structure(startpath):\n",
    "#     structure = {}\n",
    "\n",
    "#     for root, dirs, files in os.walk(startpath):\n",
    "#         path = root.split(os.sep)\n",
    "#         subdir = path[-1]\n",
    "#         parent = structure\n",
    "#         for folder in path[:-1]:\n",
    "#             parent = parent[folder]\n",
    "#         parent[subdir] = {}\n",
    "#         for file in files:\n",
    "#             parent[subdir][file] = None\n",
    "\n",
    "#     return structure\n",
    "\n",
    "# def print_structure(structure, indent=0):\n",
    "#     for name, substructure in structure.items():\n",
    "#         print('  ' * indent + name)\n",
    "#         if isinstance(substructure, dict):\n",
    "#             print_structure(substructure, indent + 1)\n",
    "\n",
    "# startpath = Path('text-summarizer')\n",
    "# folder_structure = get_structure(startpath)\n",
    "# print_structure(folder_structure)\n"
   ]
  },
  {
   "cell_type": "code",
   "execution_count": 32,
   "metadata": {},
   "outputs": [
    {
     "name": "stdout",
     "output_type": "stream",
     "text": [
      "Requirement already satisfied: dotmap in c:\\users\\i585498\\appdata\\local\\new_anaconda3\\envs\\text-summarization-project\\lib\\site-packages (1.3.30)\n"
     ]
    },
    {
     "name": "stderr",
     "output_type": "stream",
     "text": [
      "ERROR: Could not find a version that satisfies the requirement yaml (from versions: none)\n",
      "ERROR: No matching distribution found for yaml\n"
     ]
    },
    {
     "name": "stdout",
     "output_type": "stream",
     "text": [
      "Requirement already satisfied: python-box in c:\\users\\i585498\\appdata\\local\\new_anaconda3\\envs\\text-summarization-project\\lib\\site-packages (7.1.1)\n"
     ]
    }
   ],
   "source": [
    "!pip install dotmap\n",
    "!pip install python-box"
   ]
  },
  {
   "cell_type": "code",
   "execution_count": 33,
   "metadata": {},
   "outputs": [
    {
     "name": "stdout",
     "output_type": "stream",
     "text": [
      "Requirement already satisfied: PyYAML in c:\\users\\i585498\\appdata\\local\\new_anaconda3\\envs\\text-summarization-project\\lib\\site-packages (6.0.1)\n",
      "Requirement already satisfied: ensure in c:\\users\\i585498\\appdata\\local\\new_anaconda3\\envs\\text-summarization-project\\lib\\site-packages (1.0.3)\n",
      "Requirement already satisfied: six>=1.11.0 in c:\\users\\i585498\\appdata\\local\\new_anaconda3\\envs\\text-summarization-project\\lib\\site-packages (from ensure) (1.16.0)\n"
     ]
    }
   ],
   "source": [
    "!pip install PyYAML\n",
    "!pip install ensure"
   ]
  },
  {
   "cell_type": "code",
   "execution_count": 4,
   "metadata": {},
   "outputs": [
    {
     "name": "stdout",
     "output_type": "stream",
     "text": [
      "c:\\Users\\I585498\\text-summarizer\n"
     ]
    }
   ],
   "source": [
    "%pwd\n",
    "%cd .."
   ]
  },
  {
   "cell_type": "code",
   "execution_count": 1,
   "metadata": {},
   "outputs": [],
   "source": [
    "import os\n",
    "os.chdir(\"../\")\n",
    "import sys\n",
    "from dataclasses import dataclass\n",
    "from pathlib import Path\n",
    "from src.constants.constants import CONFIG_PATH, PARAMS_PATH\n",
    "from src.loging import logger\n",
    "from src.utils.common import get_size, create_directories\n",
    "from src.utils.common import read_yaml\n",
    "\n",
    "\n",
    "#sys.path.append(str(Path.cwd().parent / \"src\"))"
   ]
  },
  {
   "cell_type": "code",
   "execution_count": 25,
   "metadata": {},
   "outputs": [],
   "source": [
    "from src.utils.common import get_size, create_directories"
   ]
  },
  {
   "cell_type": "code",
   "execution_count": 27,
   "metadata": {},
   "outputs": [],
   "source": [
    "# Create entity\n",
    "@dataclass(frozen=True)\n",
    "class DataIngestionConfig:\n",
    "    root_dir: Path\n",
    "    source_URL: str\n",
    "    local_data_file: Path\n",
    "    unzip_dir: Path"
   ]
  },
  {
   "cell_type": "code",
   "execution_count": 28,
   "metadata": {},
   "outputs": [],
   "source": [
    "class ConfigurationManager:\n",
    "    def __init__(\n",
    "        self,\n",
    "        config_filepath = CONFIG_PATH,\n",
    "        params_filepath = PARAMS_PATH):\n",
    "\n",
    "        self.config = read_yaml(Path(config_filepath).resolve())\n",
    "        self.params = read_yaml(Path(params_filepath).resolve())\n",
    "\n",
    "        create_directories(\n",
    "            path_to_directories=[\n",
    "                self.config.data_ingestion.root_dir,\n",
    "                self.config.data_ingestion.unzip_dir\n",
    "            ],\n",
    "            verbose=True\n",
    "        )\n",
    "\n",
    "    \n",
    "\n",
    "    def get_data_ingestion_config(self) -> DataIngestionConfig:\n",
    "        config = self.config.data_ingestion\n",
    "\n",
    "        data_ingestion_config = DataIngestionConfig(\n",
    "            root_dir=config.root_dir,\n",
    "            source_URL=config.source_url,\n",
    "            local_data_file=config.local_data_dir,\n",
    "            unzip_dir=config.unzip_dir \n",
    "        )\n",
    "\n",
    "        return data_ingestion_config\n",
    "\n",
    "\n",
    "    \n",
    "   "
   ]
  },
  {
   "cell_type": "code",
   "execution_count": 23,
   "metadata": {},
   "outputs": [],
   "source": [
    "class DataIngestion:\n",
    "    def __init__(self, config: DataIngestionConfig):\n",
    "        self.config = config\n",
    "\n",
    "    def download_data(self):\n",
    "        if not os.path.exists(self.config.local_data_file):\n",
    "            filename, headers = request.urlretrieve(\n",
    "                url = self.config.source_URL,\n",
    "                filename = self.config.local_data_file\n",
    "            )\n",
    "            logger.info(f\"{filename} download! with following info: \\n{headers}\")\n",
    "        else:\n",
    "            logger.info(f\"File already exists of size: {get_size(Path(self.config.local_data_file))}\")\n",
    "\n",
    "    def unzip_data(self):\n",
    "        logger.info(\"Unzipping data...\")\n",
    "        \n",
    "        # Detect file extension\n",
    "        file_ext = os.path.splitext(self.config.local_data_file)[1]\n",
    "        \n",
    "        if file_ext == \".zip\":\n",
    "            os.system(f\"unzip {self.config.local_data_file} -d {self.config.unzip_dir}\")\n",
    "        elif file_ext == \".rar\":\n",
    "            os.system(f\"unrar x {self.config.local_data_file} {self.config.unzip_dir}\")\n",
    "        elif file_ext in [\".7z\", \".7zr\"]:\n",
    "            #os.system(f\"7z x {self.config.local_data_file} -o{self.config.unzip_dir}\")\n",
    "            with py7zr.SevenZipFile(self.config.local_data_file, mode='r') as z:\n",
    "                z.extractall(path=self.config.unzip_dir)\n",
    "        else:\n",
    "            logger.error(f\"Unsupported file format: {file_ext}\")\n",
    "            return\n",
    "\n",
    "        logger.info(f\"Data unzipped at {self.config.unzip_dir}\")\n",
    "\n",
    "    def get_data_size(self):\n",
    "        logger.info(\"Getting data size...\")\n",
    "        size = get_size(Path(self.config.unzip_dir))\n",
    "        logger.info(f\"Data size: {size}\")\n",
    "\n",
    "    def run(self):\n",
    "        self.download_data()\n",
    "        self.unzip_data()\n",
    "        "
   ]
  },
  {
   "cell_type": "code",
   "execution_count": 30,
   "metadata": {},
   "outputs": [
    {
     "name": "stdout",
     "output_type": "stream",
     "text": [
      "[2023-08-31 19:58:47,998]: INFO: common: Successfully read yaml file from C:\\Users\\I585498\\text-summarizer\\config\\config.yaml]\n",
      "[2023-08-31 19:58:48,005]: INFO: common: Successfully read yaml file from C:\\Users\\I585498\\text-summarizer\\params.yaml]\n",
      "[2023-08-31 19:58:48,009]: INFO: common: Created directory: data/data_ingestion]\n",
      "[2023-08-31 19:58:48,014]: INFO: common: Created directory: data/data_ingestion/raw_data]\n"
     ]
    },
    {
     "name": "stdout",
     "output_type": "stream",
     "text": [
      "[2023-08-31 19:58:48,644]: INFO: 3992423910: data/data_ingestion/data.7z download! with following info: \n",
      "Connection: close\n",
      "Content-Length: 2944100\n",
      "Cache-Control: max-age=300\n",
      "Content-Security-Policy: default-src 'none'; style-src 'unsafe-inline'; sandbox\n",
      "Content-Type: application/octet-stream\n",
      "ETag: \"4450eb63089f56212a41409ae9bcb15b3fb051149cf8d4b895f422d5c86b831c\"\n",
      "Strict-Transport-Security: max-age=31536000\n",
      "X-Content-Type-Options: nosniff\n",
      "X-Frame-Options: deny\n",
      "X-XSS-Protection: 1; mode=block\n",
      "X-GitHub-Request-Id: F69E:13934:2FEFA2:3148A4:64F0D26C\n",
      "Accept-Ranges: bytes\n",
      "Date: Thu, 31 Aug 2023 17:58:48 GMT\n",
      "Via: 1.1 varnish\n",
      "X-Served-By: cache-fra-eddf8230096-FRA\n",
      "X-Cache: HIT\n",
      "X-Cache-Hits: 1\n",
      "X-Timer: S1693504729.501220,VS0,VE8\n",
      "Vary: Authorization,Accept-Encoding,Origin\n",
      "Access-Control-Allow-Origin: *\n",
      "Cross-Origin-Resource-Policy: cross-origin\n",
      "X-Fastly-Request-ID: edccbd6406c13ad3d26de2ac5ff36a97a116da2d\n",
      "Expires: Thu, 31 Aug 2023 18:03:48 GMT\n",
      "Source-Age: 260\n",
      "\n",
      "]\n",
      "[2023-08-31 19:58:48,645]: INFO: 3992423910: Unzipping data...]\n",
      "[2023-08-31 19:58:49,276]: INFO: 3992423910: Data unzipped at data/data_ingestion/raw_data]\n"
     ]
    }
   ],
   "source": [
    "try:\n",
    "    config_manager = ConfigurationManager()\n",
    "    data_ingestion_config = config_manager.get_data_ingestion_config()\n",
    "    data_ingestion = DataIngestion(data_ingestion_config)\n",
    "    data_ingestion.run()\n",
    "except Exception as e:\n",
    "    logger.error(e)\n",
    "    raise e"
   ]
  },
  {
   "cell_type": "code",
   "execution_count": null,
   "metadata": {},
   "outputs": [],
   "source": []
  }
 ],
 "metadata": {
  "kernelspec": {
   "display_name": "text-summarization-project",
   "language": "python",
   "name": "python3"
  },
  "language_info": {
   "codemirror_mode": {
    "name": "ipython",
    "version": 3
   },
   "file_extension": ".py",
   "mimetype": "text/x-python",
   "name": "python",
   "nbconvert_exporter": "python",
   "pygments_lexer": "ipython3",
   "version": "3.11.4"
  },
  "orig_nbformat": 4
 },
 "nbformat": 4,
 "nbformat_minor": 2
}
